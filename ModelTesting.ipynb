{
 "cells": [
  {
   "cell_type": "code",
   "execution_count": 16,
   "metadata": {},
   "outputs": [],
   "source": [
    "from sklearn.metrics import accuracy_score, roc_auc_score\n",
    "from torch.utils.data import DataLoader, random_split\n",
    "from torchvision.datasets import CIFAR10\n",
    "from torchvision import transforms\n",
    "import matplotlib.pyplot as plt\n",
    "import pytorch_lightning as pl\n",
    "import numpy as np\n",
    "import torch\n",
    "import json"
   ]
  },
  {
   "cell_type": "code",
   "execution_count": 17,
   "metadata": {},
   "outputs": [],
   "source": [
    "def one_hot_labels(labels):\n",
    "    r = np.zeros((labels.size, labels.max()+1))\n",
    "    r[np.arange(labels.size),labels] = 1\n",
    "    return r"
   ]
  },
  {
   "cell_type": "code",
   "execution_count": 19,
   "metadata": {},
   "outputs": [],
   "source": [
    "import LBP.LBP_classes as LBP_classes\n",
    "path=\"Best_Models/LBPBoth/weights-v0.ckpt\"\n",
    "model = LBP_classes.LBPBoth.load_from_checkpoint(path)"
   ]
  },
  {
   "cell_type": "code",
   "execution_count": 20,
   "metadata": {},
   "outputs": [
    {
     "output_type": "stream",
     "name": "stdout",
     "text": [
      "DataLoader acquired\n"
     ]
    }
   ],
   "source": [
    "# Get test dataloader\n",
    "transform = transforms.Compose([\n",
    "        transforms.Grayscale(1),\n",
    "        transforms.ToTensor()\n",
    "    ])\n",
    "test_data = CIFAR10(root=\"data/CIFAR10\", download=False, train=False, transform=transform)\n",
    "test_loader = DataLoader(test_data, batch_size=32, num_workers=12)\n",
    "print (\"DataLoader acquired\")"
   ]
  },
  {
   "cell_type": "code",
   "execution_count": 21,
   "metadata": {},
   "outputs": [
    {
     "output_type": "stream",
     "name": "stdout",
     "text": [
      "Predictions calculated\n"
     ]
    }
   ],
   "source": [
    "# Prediction\n",
    "y_true = torch.cat([labels for _, labels in test_loader]).reshape(-1).numpy()\n",
    "y_roc = one_hot_labels(y_true)\n",
    "y_pred = torch.cat([model(images) for images, _ in test_loader]).detach().numpy()\n",
    "print (\"Predictions calculated\")"
   ]
  },
  {
   "cell_type": "code",
   "execution_count": 22,
   "metadata": {},
   "outputs": [
    {
     "output_type": "stream",
     "name": "stdout",
     "text": [
      "Model AUC: 0.8752679222222222\n"
     ]
    }
   ],
   "source": [
    "auc = roc_auc_score(y_roc, y_pred, multi_class=\"ovr\")\n",
    "print(\"Model AUC:\", auc)"
   ]
  },
  {
   "cell_type": "code",
   "execution_count": 23,
   "metadata": {},
   "outputs": [
    {
     "output_type": "stream",
     "name": "stdout",
     "text": [
      "Model accuracy: 0.6335\n"
     ]
    }
   ],
   "source": [
    "model_acc = accuracy_score(y_true, y_pred.argmax(-1))\n",
    "print(\"Model accuracy:\", model_acc)"
   ]
  }
 ],
 "metadata": {
  "kernelspec": {
   "name": "python3",
   "display_name": "Python 3.8.5 64-bit ('DeepLearning': conda)",
   "metadata": {
    "interpreter": {
     "hash": "2992f6be52c5b61d192a127f811cc6318773d91cb974f49126b50df437ff5c7b"
    }
   }
  },
  "language_info": {
   "codemirror_mode": {
    "name": "ipython",
    "version": 3
   },
   "file_extension": ".py",
   "mimetype": "text/x-python",
   "name": "python",
   "nbconvert_exporter": "python",
   "pygments_lexer": "ipython3",
   "version": "3.8.5-final"
  }
 },
 "nbformat": 4,
 "nbformat_minor": 4
}