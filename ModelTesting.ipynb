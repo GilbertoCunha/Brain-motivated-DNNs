{
 "cells": [
  {
   "cell_type": "code",
   "execution_count": 1,
   "metadata": {},
   "outputs": [],
   "source": [
    "from torch.utils.data import DataLoader, random_split\n",
    "from sklearn.metrics import accuracy_score\n",
    "import SIFT.SIFT_classes as SIFT_classes\n",
    "from torchvision.datasets import CIFAR10\n",
    "from torchvision import transforms\n",
    "import matplotlib.pyplot as plt\n",
    "import pytorch_lightning as pl\n",
    "import numpy as np\n",
    "import torch\n",
    "import json"
   ]
  },
  {
   "cell_type": "code",
   "execution_count": 2,
   "metadata": {},
   "outputs": [],
   "source": [
    "path=\"Best_Models/RetinaVVS/weights.ckpt\"\n",
    "model = SIFT_classes.SIFTRetinaStart.load_from_checkpoint(path)"
   ]
  },
  {
   "cell_type": "code",
   "execution_count": 3,
   "metadata": {},
   "outputs": [
    {
     "output_type": "stream",
     "name": "stdout",
     "text": [
      "DataLoader acquired\n"
     ]
    }
   ],
   "source": [
    "# Get test dataloader\n",
    "transform = transforms.Compose([\n",
    "        transforms.Grayscale(1),\n",
    "        transforms.ToTensor()\n",
    "    ])\n",
    "test_data = CIFAR10(root=\"data/CIFAR10\", download=False, train=False, transform=transform)\n",
    "test_loader = DataLoader(test_data, batch_size=32, num_workers=12)\n",
    "print (\"DataLoader acquired\")"
   ]
  },
  {
   "cell_type": "code",
   "execution_count": 8,
   "metadata": {},
   "outputs": [
    {
     "output_type": "stream",
     "name": "stdout",
     "text": [
      "Predictions calculated\n"
     ]
    }
   ],
   "source": [
    "# Prediction\n",
    "y_true = torch.cat([labels for _, labels in test_loader]).reshape(-1).numpy()\n",
    "y_pred = torch.cat([model(images).argmax(axis=-1) for images, _ in test_loader]).reshape(-1).numpy()\n",
    "print (\"Predictions calculated\")"
   ]
  },
  {
   "cell_type": "code",
   "execution_count": 10,
   "metadata": {},
   "outputs": [
    {
     "output_type": "stream",
     "name": "stdout",
     "text": [
      "Model accuracy: 0.6778\n"
     ]
    }
   ],
   "source": [
    "model_acc = accuracy_score(y_true, y_pred)\n",
    "print(\"Model accuracy:\", model_acc)"
   ]
  },
  {
   "cell_type": "code",
   "execution_count": null,
   "metadata": {},
   "outputs": [],
   "source": []
  }
 ],
 "metadata": {
  "kernelspec": {
   "name": "python3",
   "display_name": "Python 3.8.5 64-bit ('DeepLearning': conda)",
   "metadata": {
    "interpreter": {
     "hash": "2992f6be52c5b61d192a127f811cc6318773d91cb974f49126b50df437ff5c7b"
    }
   }
  },
  "language_info": {
   "codemirror_mode": {
    "name": "ipython",
    "version": 3
   },
   "file_extension": ".py",
   "mimetype": "text/x-python",
   "name": "python",
   "nbconvert_exporter": "python",
   "pygments_lexer": "ipython3",
   "version": "3.8.5-final"
  }
 },
 "nbformat": 4,
 "nbformat_minor": 4
}