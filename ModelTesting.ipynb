{
 "cells": [
  {
   "cell_type": "code",
   "execution_count": 1,
   "metadata": {},
   "outputs": [],
   "source": [
    "from torch.utils.data import DataLoader, random_split\n",
    "from sklearn.metrics import accuracy_score\n",
    "import RetinaVVS.RetinaVVS_class as RetinaVVS_class\n",
    "from torchvision.datasets import CIFAR10\n",
    "from torchvision import transforms\n",
    "import matplotlib.pyplot as plt\n",
    "import pytorch_lightning as pl\n",
    "import numpy as np\n",
    "import torch\n",
    "import json"
   ]
  },
  {
   "cell_type": "code",
   "execution_count": 2,
   "metadata": {},
   "outputs": [],
   "source": [
    "def get_hparams(path):\n",
    "    with open(path) as f:\n",
    "        r = f.read()\n",
    "    return json.loads(r)"
   ]
  },
  {
   "cell_type": "code",
   "execution_count": null,
   "metadata": {},
   "outputs": [],
   "source": [
    "# Get hyperparameters\n",
    "# TODO: add hyperparameter automatic saving with torch lightning\n",
    "path = \"Best_Models/RetinaVVS/RetChans32_VVSLayers4/parameters.txt\"\n",
    "weight_path = \"Best_Models/RetinaVVS/RetChans32_VVSLayers4/weights.tar\"\n",
    "hparams = get_hparams(path)\n",
    "\n",
    "# Get model\n",
    "model = RetinaVVS_class.RetinaVVS(hparams)\n",
    "model.load_state_dict(torch.load(weight_path))\n",
    "model.eval()\n",
    "print (\"Model grabbed\")"
   ]
  },
  {
   "cell_type": "code",
   "execution_count": null,
   "metadata": {},
   "outputs": [],
   "source": [
    "# Get test dataloader\n",
    "transform = transforms.Compose([\n",
    "        transforms.Grayscale(1),\n",
    "        transforms.ToTensor()\n",
    "    ])\n",
    "test_data = CIFAR10(root=\"data/CIFAR10\", download=False, train=False, transform=transform)\n",
    "test_loader = DataLoader(test_data, batch_size=32, num_workers=12)\n",
    "print (\"Dataloader acquired\")"
   ]
  },
  {
   "cell_type": "code",
   "execution_count": null,
   "metadata": {},
   "outputs": [],
   "source": [
    "# Prediction\n",
    "y_true = torch.cat([labels for _, labels in test_loader]).reshape(-1).numpy()\n",
    "y_pred = torch.cat([model(images).argmax(axis=-1) for images, _ in test_loader]).reshape(-1).numpy()\n",
    "print (\"Predictions calculated\")"
   ]
  },
  {
   "cell_type": "code",
   "execution_count": null,
   "metadata": {},
   "outputs": [],
   "source": [
    "model_acc = accuracy_score(y_true, y_pred)\n",
    "print(\"Model accuracy:\", model_acc"
   ]
  }
 ],
 "metadata": {
  "kernelspec": {
   "display_name": "Python 3",
   "language": "python",
   "name": "python3"
  },
  "language_info": {
   "codemirror_mode": {
    "name": "ipython",
    "version": 3
   },
   "file_extension": ".py",
   "mimetype": "text/x-python",
   "name": "python",
   "nbconvert_exporter": "python",
   "pygments_lexer": "ipython3",
   "version": "3.8.3-final"
  }
 },
 "nbformat": 4,
 "nbformat_minor": 4
}